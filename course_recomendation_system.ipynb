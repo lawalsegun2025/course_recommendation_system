{
 "cells": [
  {
   "cell_type": "markdown",
   "id": "3053b488",
   "metadata": {},
   "source": [
    "# Course Recommendation System using Udemy Dataset"
   ]
  },
  {
   "cell_type": "markdown",
   "id": "34e669dc",
   "metadata": {},
   "source": [
    "**Algorithms**\n",
    "* Cosine Similarity\n",
    "* Linear Similarity\n",
    "\n",
    "**Workflow**\n",
    "* Import Dataset\n",
    "* Vectorize Dataset\n",
    "* Cosine Similarity Matrix\n",
    "* ID Score\n",
    "* Recommend"
   ]
  },
  {
   "cell_type": "code",
   "execution_count": null,
   "id": "00891776",
   "metadata": {},
   "outputs": [],
   "source": []
  }
 ],
 "metadata": {
  "kernelspec": {
   "display_name": "Python 3 (ipykernel)",
   "language": "python",
   "name": "python3"
  },
  "language_info": {
   "codemirror_mode": {
    "name": "ipython",
    "version": 3
   },
   "file_extension": ".py",
   "mimetype": "text/x-python",
   "name": "python",
   "nbconvert_exporter": "python",
   "pygments_lexer": "ipython3",
   "version": "3.10.8"
  }
 },
 "nbformat": 4,
 "nbformat_minor": 5
}
