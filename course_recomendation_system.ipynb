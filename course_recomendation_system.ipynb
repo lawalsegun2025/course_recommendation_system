{
 "cells": [
  {
   "cell_type": "markdown",
   "id": "2204e095",
   "metadata": {},
   "source": [
    "# Course Recommendation System using Udemy Dataset"
   ]
  },
  {
   "cell_type": "markdown",
   "id": "d029629b",
   "metadata": {},
   "source": [
    "**Algorithms**\n",
    "* Cosine Similarity\n",
    "* Linear Similarity\n",
    "\n",
    "**Workflow**\n",
    "* Import Dataset\n",
    "* Vectorize Dataset\n",
    "* Cosine Similarity Matrix\n",
    "* ID Score\n",
    "* Recommend"
   ]
  },
  {
   "cell_type": "code",
   "execution_count": 8,
   "id": "81a48c5d",
   "metadata": {},
   "outputs": [],
   "source": [
    "# Import dependancies\n",
    "import pandas as pd \n",
    "import numpy as np \n",
    "import neattext.functions as nfx\n",
    "from sklearn.feature_extraction.text import TfidfVectorizer \n",
    "from sklearn.feature_extraction.text import CountVectorizer\n",
    "from sklearn.metrics.pairwise import cosine_similarity\n",
    "from sklearn.metrics.pairwise import linear_kernel"
   ]
  },
  {
   "cell_type": "code",
   "execution_count": 7,
   "id": "249057b1",
   "metadata": {},
   "outputs": [],
   "source": []
  },
  {
   "cell_type": "code",
   "execution_count": null,
   "id": "e507fd97",
   "metadata": {},
   "outputs": [],
   "source": []
  }
 ],
 "metadata": {
  "kernelspec": {
   "display_name": "Python 3 (ipykernel)",
   "language": "python",
   "name": "python3"
  },
  "language_info": {
   "codemirror_mode": {
    "name": "ipython",
    "version": 3
   },
   "file_extension": ".py",
   "mimetype": "text/x-python",
   "name": "python",
   "nbconvert_exporter": "python",
   "pygments_lexer": "ipython3",
   "version": "3.10.8"
  }
 },
 "nbformat": 4,
 "nbformat_minor": 5
}
