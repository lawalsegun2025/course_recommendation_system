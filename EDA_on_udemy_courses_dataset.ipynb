{
 "cells": [
  {
   "cell_type": "markdown",
   "id": "4aac6337",
   "metadata": {},
   "source": [
    "# Exploratory Data Analysis\n",
    "\n",
    "## Questions to Solve\n",
    "* **Course Title**\n",
    "    - What is the most frequent words in course title\n",
    "    - Longest/Shortest course title\n",
    "    - How can we build recommendation systems via title using similarity\n",
    "    - Most famous courses by number of subscribers\n",
    "* **Subjects/Categories**\n",
    "    - What is the distribution of subjects\n",
    "    - How many courses per subject\n",
    "    - Distribution of subjects per year\n",
    "    - How many people purchase a particular subject\n",
    "    - Which subjects is the most popular\n",
    "* **Published Year**\n",
    "    - Number of courses per year\n",
    "    - Which year has the highest number of courses\n",
    "    - What is the trend of courses per year\n",
    "    "
   ]
  },
  {
   "cell_type": "code",
   "execution_count": null,
   "id": "54d64d30",
   "metadata": {},
   "outputs": [],
   "source": []
  }
 ],
 "metadata": {
  "kernelspec": {
   "display_name": "Python 3 (ipykernel)",
   "language": "python",
   "name": "python3"
  },
  "language_info": {
   "codemirror_mode": {
    "name": "ipython",
    "version": 3
   },
   "file_extension": ".py",
   "mimetype": "text/x-python",
   "name": "python",
   "nbconvert_exporter": "python",
   "pygments_lexer": "ipython3",
   "version": "3.10.8"
  }
 },
 "nbformat": 4,
 "nbformat_minor": 5
}
