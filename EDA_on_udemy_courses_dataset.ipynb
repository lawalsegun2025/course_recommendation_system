{
 "cells": [
  {
   "cell_type": "markdown",
   "id": "aa07cd66",
   "metadata": {},
   "source": [
    "# Exploratory Data Analysis\n",
    "\n",
    "## Questions to Solve\n",
    "* **Course Title**\n",
    "    - What is the most frequent words in course title\n",
    "    - Longest/Shortest course title\n",
    "    - How can we build recommendation systems via title using similarity\n",
    "    - Most famous courses by number of subscribers\n",
    "* **Subjects/Categories**\n",
    "    - What is the distribution of subjects\n",
    "    - How many courses per subject\n",
    "    - Distribution of subjects per year\n",
    "    - How many people purchase a particular subject\n",
    "    - Which subjects is the most popular\n",
    "* **Published Year**\n",
    "    - Number of courses per year\n",
    "    - Which year has the highest number of courses\n",
    "    - What is the trend of courses per year\n",
    "* **Levels**\n",
    "    - How many levels do we have\n",
    "    - What is the distribution of courses per level\n",
    "    - Which subject have the highest levels\n",
    "    - How many subscribers per level\n",
    "    - How many courses per level\n",
    "* **Duration of Course**\n",
    "    - Which courses have the highest duration (paid and free)\n",
    "    - Which courses have higher durations\n",
    "    - Duration vs number of subscribers\n",
    "* **Subscribers**\n",
    "    - Which course have the highest number of subscribers\n",
    "    - Average number of subscribers\n",
    "    - Number of subscribers per subject\n",
    "    - Number of subscribers per year\n",
    "* **Price**\n",
    "    - What is the average price of a course\n",
    "    - What is the minimum and maximum price\n",
    "    - How much does Udemy earn\n",
    "    - The most profitable courses"
   ]
  },
  {
   "cell_type": "code",
   "execution_count": null,
   "id": "8fb7a8d2",
   "metadata": {},
   "outputs": [],
   "source": []
  }
 ],
 "metadata": {
  "kernelspec": {
   "display_name": "Python 3 (ipykernel)",
   "language": "python",
   "name": "python3"
  },
  "language_info": {
   "codemirror_mode": {
    "name": "ipython",
    "version": 3
   },
   "file_extension": ".py",
   "mimetype": "text/x-python",
   "name": "python",
   "nbconvert_exporter": "python",
   "pygments_lexer": "ipython3",
   "version": "3.10.8"
  }
 },
 "nbformat": 4,
 "nbformat_minor": 5
}
